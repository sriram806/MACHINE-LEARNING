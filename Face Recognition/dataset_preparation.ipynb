{
 "cells": [
  {
   "cell_type": "markdown",
   "metadata": {},
   "source": [
    "<h1 style=\"color:yellow;text-align:center\">Facial Recoginition</h1>"
   ]
  },
  {
   "cell_type": "markdown",
   "metadata": {},
   "source": [
    "<h2 style=\"color:red\">Case Statement:</h2>\n",
    "<h5>Utilise pre-trained face recognition models like FaceNet, ArcFace, or DeepFace for identity verification based on detected faces. Candidates may also opt to train custom face recognition models using labeled data if deemed necessary.</h5>"
   ]
  },
  {
   "cell_type": "markdown",
   "metadata": {},
   "source": [
    "<h2 style=\"color:red;\">Preparing a Customized Dataset using pyhton</h2>"
   ]
  },
  {
   "cell_type": "markdown",
   "metadata": {},
   "source": [
    "<h3 style=\"color:red;\">Software Requirements:</h3>"
   ]
  },
  {
   "cell_type": "markdown",
   "metadata": {},
   "source": [
    "<ul>open cv (open computer vision):</ul>\n",
    "<ul>os (operating system) </ul>\n",
    "<ul>haarcascade frontalface default file (which can be download from github)</ul>"
   ]
  },
  {
   "cell_type": "code",
   "execution_count": 5,
   "metadata": {},
   "outputs": [],
   "source": [
    "# Importing Required Libraries and modules\n",
    "import cv2 #open cv or open computer vision module used for capture faces\n",
    "import os #os module is used for file system and manipulate directory\n",
    "\n",
    "def create_directory(path):\n",
    "    \"\"\"create_directory is function which is used to create a dataset by\n",
    "      creating directory and sub directory\"\"\"\n",
    "    if not os.path.exists(path):\n",
    "        os.makedirs(path)\n",
    "\n",
    "# Start video capture\n",
    "cap = cv2.VideoCapture(0)\n",
    "if not cap.isOpened():\n",
    "    print(\"Error: Could not open video capture.\")\n",
    "    exit()\n",
    "\n",
    "# Load the Haar cascade classifier for face detection\n",
    "face_cascade = cv2.CascadeClassifier(cv2.dsrata.haarcascades + 'haarcascade_frontalface_default.xml')\n",
    "if face_cascade.empty():\n",
    "    print(\"Error: Could not load face cascade classifier.\")\n",
    "    exit()\n",
    "\n",
    "name = input(\"Enter the name of the person: \")\n",
    "subfolder_path = f'dataset/{name}'\n",
    "create_directory(subfolder_path)\n",
    "\n",
    "count = 0\n",
    "print(\"Starting image capture. Press 'q' to quit.\")\n",
    "\n",
    "while True:\n",
    "    ret, frame = cap.read()\n",
    "    if not ret:\n",
    "        print(\"Error: Failed to capture image.\")\n",
    "        break\n",
    "\n",
    "    gray = cv2.cvtColor(frame, cv2.COLOR_BGR2GRAY)\n",
    "    faces = face_cascade.detectMultiScale(gray, 1.1, 4)\n",
    "\n",
    "    for (x, y, w, h) in faces:\n",
    "        count += 1\n",
    "        face_img = gray[y:y+h, x:x+w]\n",
    "        cv2.imwrite(f\"{subfolder_path}/{name}_{count}.jpg\", face_img)\n",
    "        cv2.rectangle(frame, (x, y), (x+w, y+h), (255, 0, 0), 2)\n",
    "\n",
    "    cv2.imshow('frame', frame)\n",
    "\n",
    "    if cv2.waitKey(1) & 0xFF == ord('q') or count >= 150:\n",
    "        break\n",
    "\n",
    "print(\"Image capture completed.\")\n",
    "cap.release()\n",
    "cv2.destroyAllWindows()"
   ]
  },
  {
   "cell_type": "code",
   "execution_count": null,
   "metadata": {},
   "outputs": [],
   "source": []
  }
 ],
 "metadata": {
  "kernelspec": {
   "display_name": "base",
   "language": "python",
   "name": "python3"
  },
  "language_info": {
   "codemirror_mode": {
    "name": "ipython",
    "version": 3
   },
   "file_extension": ".py",
   "mimetype": "text/x-python",
   "name": "python",
   "nbconvert_exporter": "python",
   "pygments_lexer": "ipython3",
   "version": "3.11.7"
  }
 },
 "nbformat": 4,
 "nbformat_minor": 2
}
